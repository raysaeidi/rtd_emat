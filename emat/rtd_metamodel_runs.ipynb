{
 "cells": [
  {
   "cell_type": "code",
   "execution_count": 1,
   "id": "f16af921",
   "metadata": {},
   "outputs": [
    {
     "name": "stdout",
     "output_type": "stream",
     "text": [
      "emat 0.2.11, ema_workbench 2.1.508, plotly 5.9.0\n"
     ]
    }
   ],
   "source": [
    "import emat\n",
    "from emat.util.loggers import timing_log\n",
    "emat.versions()"
   ]
  },
  {
   "cell_type": "code",
   "execution_count": null,
   "id": "c79c35d5",
   "metadata": {},
   "outputs": [],
   "source": [
    "import emat.examples\n",
    "scope, db, model = emat.examples.road_test()\n",
    "design = model.design_experiments(design_name='lhs')\n",
    "results = model.run_experiments(design)"
   ]
  },
  {
   "cell_type": "code",
   "execution_count": null,
   "id": "010a1cb3",
   "metadata": {},
   "outputs": [],
   "source": [
    "design"
   ]
  },
  {
   "cell_type": "code",
   "execution_count": null,
   "id": "755c8f18",
   "metadata": {},
   "outputs": [],
   "source": [
    "results"
   ]
  },
  {
   "cell_type": "code",
   "execution_count": null,
   "id": "ba401e12",
   "metadata": {},
   "outputs": [],
   "source": [
    "import sklearn\n",
    "sklearn.__version__"
   ]
  },
  {
   "cell_type": "code",
   "execution_count": null,
   "id": "887d83b8",
   "metadata": {},
   "outputs": [],
   "source": [
    "import sys\n",
    "sys.path"
   ]
  },
  {
   "cell_type": "code",
   "execution_count": null,
   "id": "3dd55b40",
   "metadata": {},
   "outputs": [],
   "source": [
    "from emat.model import create_metamodel\n",
    "\n",
    "with timing_log(\"create metamodel\"):\n",
    "    mm = create_metamodel(scope, results, suppress_converge_warnings=True)"
   ]
  },
  {
   "cell_type": "code",
   "execution_count": null,
   "id": "034e97cc",
   "metadata": {},
   "outputs": [],
   "source": [
    "scope"
   ]
  }
 ],
 "metadata": {
  "kernelspec": {
   "display_name": "Python 3 (ipykernel)",
   "language": "python",
   "name": "python3"
  },
  "language_info": {
   "codemirror_mode": {
    "name": "ipython",
    "version": 3
   },
   "file_extension": ".py",
   "mimetype": "text/x-python",
   "name": "python",
   "nbconvert_exporter": "python",
   "pygments_lexer": "ipython3",
   "version": "3.9.16"
  }
 },
 "nbformat": 4,
 "nbformat_minor": 5
}
